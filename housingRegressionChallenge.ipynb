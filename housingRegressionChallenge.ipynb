{
  "nbformat": 4,
  "nbformat_minor": 0,
  "metadata": {
    "colab": {
      "name": "housingRegressionChallenge.ipynb",
      "version": "0.3.2",
      "provenance": [],
      "collapsed_sections": [
        "LbCZ7SDt3Ass",
        "UIIXGniC_03p",
        "szczEbIN3Qqk",
        "Yb8pFsPgE65A",
        "YJ_yQMc0IbYp",
        "r-QWK27w7ly7",
        "evSaR1E2N7pM",
        "Tnk7dAR513ul"
      ],
      "toc_visible": true
    },
    "kernelspec": {
      "name": "python3",
      "display_name": "Python 3"
    }
  },
  "cells": [
    {
      "cell_type": "markdown",
      "metadata": {
        "id": "LbCZ7SDt3Ass",
        "colab_type": "text"
      },
      "source": [
        "# Library imports"
      ]
    },
    {
      "cell_type": "code",
      "metadata": {
        "id": "lW7orYTK3BPr",
        "colab_type": "code",
        "outputId": "18e0ffdb-5437-4208-f825-701513a6e96e",
        "colab": {
          "base_uri": "https://localhost:8080/",
          "height": 34
        }
      },
      "source": [
        "#Basic imports\n",
        "import pandas as pd\n",
        "import numpy as np\n",
        "\n",
        "#Scipy imports\n",
        "from scipy.stats import skew, mode\n",
        "\n",
        "#Plotting imports\n",
        "import matplotlib.pyplot as plt\n",
        "import seaborn as sns\n",
        "\n",
        "#SkLearn general imports\n",
        "from sklearn.model_selection import train_test_split, cross_val_score, \\\n",
        "GridSearchCV\n",
        "\n",
        "#Keras imports\n",
        "from keras.models import Sequential\n",
        "from keras.layers import Dense, Dropout\n",
        "from keras.wrappers.scikit_learn import KerasRegressor"
      ],
      "execution_count": 0,
      "outputs": [
        {
          "output_type": "stream",
          "text": [
            "Using TensorFlow backend.\n"
          ],
          "name": "stderr"
        }
      ]
    },
    {
      "cell_type": "markdown",
      "metadata": {
        "id": "UIIXGniC_03p",
        "colab_type": "text"
      },
      "source": [
        "# Data aquisition"
      ]
    },
    {
      "cell_type": "markdown",
      "metadata": {
        "id": "s7-5bM-24WJP",
        "colab_type": "text"
      },
      "source": [
        "For simplicity, both datasets a loaded now so we can easily apply any transformations to the entire dataset."
      ]
    },
    {
      "cell_type": "code",
      "metadata": {
        "id": "SYeQk2xWTgpc",
        "colab_type": "code",
        "colab": {}
      },
      "source": [
        "train_df = pd.read_csv('train.csv', index_col = 0)\n",
        "test_df = pd.read_csv('test.csv', index_col = 0)"
      ],
      "execution_count": 0,
      "outputs": []
    },
    {
      "cell_type": "markdown",
      "metadata": {
        "id": "dRuLgUXWAYMd",
        "colab_type": "text"
      },
      "source": [
        "# Data analysis"
      ]
    },
    {
      "cell_type": "markdown",
      "metadata": {
        "id": "IwAyYp6VAzWQ",
        "colab_type": "text"
      },
      "source": [
        "The exploratory data analysis will only be conducted on the train data since we do not want data intended for test/ production to affect how we perceive the problema at hand."
      ]
    },
    {
      "cell_type": "markdown",
      "metadata": {
        "id": "szczEbIN3Qqk",
        "colab_type": "text"
      },
      "source": [
        "## Missing values"
      ]
    },
    {
      "cell_type": "markdown",
      "metadata": {
        "id": "ya0xVN3o3Tfp",
        "colab_type": "text"
      },
      "source": [
        "Before we proceed to the actual  exploratory data analysis, it is important to find, evaluate and handle the missing values. In this step, both train and test data will be handled. Still, a different approach is taken for each dataset.\n",
        "\n",
        "The first step is to define a class which will be used not only to handle missing values, but also to perform feature engineering."
      ]
    },
    {
      "cell_type": "code",
      "metadata": {
        "id": "Rg3NhJZNB2Es",
        "colab_type": "code",
        "colab": {}
      },
      "source": [
        "class Transform:\n",
        "  \n",
        "  def __init__(self, train_data, test_data):\n",
        "    self.train_data = train_data.copy()\n",
        "    self.test_data = test_data.copy()\n",
        "    self.data = self.train_data.append(self.test_data, sort = False)\n",
        "    \n",
        "  #One hot encode entire dataset function\n",
        "  def one_encoder(self, data, cols):\n",
        "      for c in cols:\n",
        "        dummy = pd.get_dummies(data[c])\n",
        "        dummy = dummy.drop(columns = dummy.columns.values[0])\n",
        "        data[dummy.columns.values] = dummy\n",
        "        data = data.drop(columns = c)\n",
        "      return data\n",
        "        \n",
        "  #Remove attributes from entire dataset function\n",
        "  def remove_atr(self, cols):\n",
        "    self.train_data = self.train_data.drop(columns = cols)\n",
        "    self.test_data = self.test_data.drop(columns = cols)\n",
        "    \n",
        "  #Transform attribute to binary function\n",
        "  def binary_transform(self, col, yes_value, no_value):\n",
        "    self.train_data[col] = np.where(self.train_data[col] != yes_value, no_value, \n",
        "                                    yes_value)\n",
        "    self.test_data[col] = np.where(self.test_data[col] != yes_value, no_value, \n",
        "                                    yes_value)\n",
        "  \n",
        "  #Fill train data missing values function\n",
        "  def fillna_train(self, col, ctype, new_val):\n",
        "    if ctype == 'to_value':\n",
        "      pass\n",
        "    elif ctype == 'most_common':\n",
        "      new_val = mode(self.train_data[col].values)[0][0]\n",
        "    elif ctype == 'mean':\n",
        "      new_val = np.nanmean(self.train_data[col].values)\n",
        "    else:\n",
        "      print('Invalid \"ctype\" argument value!')\n",
        "      return 1\n",
        "    self.train_data[col] = self.train_data[col].fillna(value = new_val) \n",
        "  \n",
        "  #Fill test data missing values function\n",
        "  def fillna_test(self, col, ctype, new_val):\n",
        "    if ctype == 'to_value':\n",
        "      pass\n",
        "    elif ctype == 'most_common':\n",
        "      new_val = mode(self.train_data[col].values)[0][0]\n",
        "    elif ctype == 'mean':\n",
        "      new_val = np.nanmean(self.train_data[col].values)\n",
        "    else:\n",
        "      print('Invalid \"ctype\" argument value!')\n",
        "      return 1\n",
        "    self.test_data[col] = self.test_data[col].fillna(value = new_val) "
      ],
      "execution_count": 0,
      "outputs": []
    },
    {
      "cell_type": "code",
      "metadata": {
        "id": "IjLLR09dEpCQ",
        "colab_type": "code",
        "colab": {}
      },
      "source": [
        "#Define class instance\n",
        "df = Transform(train_df, test_df)"
      ],
      "execution_count": 0,
      "outputs": []
    },
    {
      "cell_type": "markdown",
      "metadata": {
        "id": "Yb8pFsPgE65A",
        "colab_type": "text"
      },
      "source": [
        "### Train data missing values"
      ]
    },
    {
      "cell_type": "markdown",
      "metadata": {
        "id": "Z9PWvqdrE_6y",
        "colab_type": "text"
      },
      "source": [
        "First, we have to find the missing values in the training data."
      ]
    },
    {
      "cell_type": "code",
      "metadata": {
        "id": "ZZ60bvQDAXJw",
        "colab_type": "code",
        "outputId": "94763ce9-ad0d-4647-ea9d-1e6ce80d5d46",
        "colab": {
          "base_uri": "https://localhost:8080/",
          "height": 357
        }
      },
      "source": [
        "#Find train data missing values\n",
        "is_null = df.train_data.isnull().sum()\n",
        "is_null = is_null[is_null > 0]\n",
        "print(is_null)"
      ],
      "execution_count": 0,
      "outputs": [
        {
          "output_type": "stream",
          "text": [
            "LotFrontage      259\n",
            "Alley           1369\n",
            "MasVnrType         8\n",
            "MasVnrArea         8\n",
            "BsmtQual          37\n",
            "BsmtCond          37\n",
            "BsmtExposure      38\n",
            "BsmtFinType1      37\n",
            "BsmtFinType2      38\n",
            "Electrical         1\n",
            "FireplaceQu      690\n",
            "GarageType        81\n",
            "GarageYrBlt       81\n",
            "GarageFinish      81\n",
            "GarageQual        81\n",
            "GarageCond        81\n",
            "PoolQC          1453\n",
            "Fence           1179\n",
            "MiscFeature     1406\n",
            "dtype: int64\n"
          ],
          "name": "stdout"
        }
      ]
    },
    {
      "cell_type": "markdown",
      "metadata": {
        "id": "1tPDP3Xn37nh",
        "colab_type": "text"
      },
      "source": [
        "For some attributes, the missing data actually represents a valid categorical value.\n",
        "\n",
        "From the data description file (found [here](https://storage.googleapis.com/kaggle-competitions-data/kaggle/5407/205873/data_description.txt?GoogleAccessId=web-data@kaggle-161607.iam.gserviceaccount.com&Expires=1563642550&Signature=HuaV551Ss3xOzw9Dm2CrqvkPVeXcMhZBnEz3WqCIGnq4RKgr%2FLl4WoRyw%2B4cwlhKKsoudaMVO3QpM5Zjb4SEljQhMmrDLqCd4e3FNY8gKiaqhngp9499ymwGZWC92TzUJPJYiJuBAKMcO%2FEF7ZcKOAy8OPrRJ6USqakiVqoWn3UJIWqRAQ2t1qPcTOO7mBctvnPr33HkLajgA6zSAVLi6egVN34P6MH7gEhGf3hYyjl%2BbdnOT56sedvzGU7%2BAlFk1hyCyJ4QmqBdjErhTRQhEAfWaH5XLnINuZFQ6mKWUN3%2FKdJC6mpqBANbgN0DY06MUZtxlFiTuzvhYTbRpABW5A%3D%3D)), we can identify such attributes "
      ]
    },
    {
      "cell_type": "code",
      "metadata": {
        "id": "peOyfg0Y4wKb",
        "colab_type": "code",
        "colab": {}
      },
      "source": [
        "#Replace missing values for categorical value 'None'\n",
        "nan_to_category = ['Alley', 'BsmtQual', 'BsmtCond', 'BsmtFinType1', \n",
        "                   'FireplaceQu', 'GarageType', 'GarageFinish', 'GarageQual',\n",
        "                   'GarageCond','PoolQC', 'Fence', 'MiscFeature', \n",
        "                   'BsmtExposure', 'BsmtFinType2', 'MasVnrType']\n",
        "\n",
        "df.fillna_train(nan_to_category, 'to_value', 'None')"
      ],
      "execution_count": 0,
      "outputs": []
    },
    {
      "cell_type": "markdown",
      "metadata": {
        "id": "bOSF4a-r6CQH",
        "colab_type": "text"
      },
      "source": [
        "The remaining missing values are handled more specifically."
      ]
    },
    {
      "cell_type": "code",
      "metadata": {
        "id": "tMCb3gaW6SaD",
        "colab_type": "code",
        "colab": {}
      },
      "source": [
        "#Replace 'Electrical' missing value with most common categorical value\n",
        "df.fillna_train('Electrical', 'most_common', 0)\n",
        "\n",
        "#Replace 'MasVnrArea' missing values with '0'\n",
        "df.fillna_train('MasVnrArea', 'to_value', 0)\n",
        "\n",
        "#Replace 'GarageYrBlt' missing values with mean value\n",
        "df.fillna_train('GarageYrBlt', 'mean', 0)\n",
        "\n",
        "#Remove 'LotFrontage' attribute (from entire dataset)\n",
        "df.remove_atr('LotFrontage')"
      ],
      "execution_count": 0,
      "outputs": []
    },
    {
      "cell_type": "markdown",
      "metadata": {
        "id": "YJ_yQMc0IbYp",
        "colab_type": "text"
      },
      "source": [
        "### Test data missing values"
      ]
    },
    {
      "cell_type": "code",
      "metadata": {
        "id": "w-8oxZMEIe4Y",
        "colab_type": "code",
        "outputId": "1d3025f2-7f9a-47ca-c6ed-59bba85259ce",
        "colab": {
          "base_uri": "https://localhost:8080/",
          "height": 578
        }
      },
      "source": [
        "#Find test data missing values\n",
        "is_null = df.test_data.isnull().sum()\n",
        "is_null = is_null[is_null > 0]\n",
        "print(is_null)"
      ],
      "execution_count": 0,
      "outputs": [
        {
          "output_type": "stream",
          "text": [
            "MSZoning           4\n",
            "Alley           1352\n",
            "Utilities          2\n",
            "Exterior1st        1\n",
            "Exterior2nd        1\n",
            "MasVnrType        16\n",
            "MasVnrArea        15\n",
            "BsmtQual          44\n",
            "BsmtCond          45\n",
            "BsmtExposure      44\n",
            "BsmtFinType1      42\n",
            "BsmtFinSF1         1\n",
            "BsmtFinType2      42\n",
            "BsmtFinSF2         1\n",
            "BsmtUnfSF          1\n",
            "TotalBsmtSF        1\n",
            "BsmtFullBath       2\n",
            "BsmtHalfBath       2\n",
            "KitchenQual        1\n",
            "Functional         2\n",
            "FireplaceQu      730\n",
            "GarageType        76\n",
            "GarageYrBlt       78\n",
            "GarageFinish      78\n",
            "GarageCars         1\n",
            "GarageArea         1\n",
            "GarageQual        78\n",
            "GarageCond        78\n",
            "PoolQC          1456\n",
            "Fence           1169\n",
            "MiscFeature     1408\n",
            "SaleType           1\n",
            "dtype: int64\n"
          ],
          "name": "stdout"
        }
      ]
    },
    {
      "cell_type": "markdown",
      "metadata": {
        "id": "klObWG0iIkRo",
        "colab_type": "text"
      },
      "source": [
        "The test data missing values will be filled based on the training data values. \n",
        "\n",
        "For example, the missing values for a given categorical attribute will be filled with the most common value in the train dataset."
      ]
    },
    {
      "cell_type": "code",
      "metadata": {
        "id": "Ei3zqDunI_ky",
        "colab_type": "code",
        "colab": {}
      },
      "source": [
        "#Replace for categorical value\n",
        "df.fillna_test(nan_to_category, 'to_value', 'None')\n",
        "\n",
        "#Replace for '0'\n",
        "to_zero = ['MasVnrArea', 'BsmtFinSF1', 'BsmtFinSF2', 'BsmtUnfSF', \n",
        "           'TotalBsmtSF', 'BsmtFullBath', 'BsmtHalfBath', 'GarageCars', \n",
        "           'GarageArea']\n",
        "df.fillna_test(to_zero, 'to_value', 0)\n",
        "\n",
        "#Replace for most common value\n",
        "to_mode = ['MSZoning', 'Utilities', 'Exterior1st', 'Exterior2nd', 'KitchenQual',\n",
        "           'Functional', 'SaleType']\n",
        "for col in to_mode:\n",
        "  df.fillna_test(col, 'most_common', 0)\n",
        "  \n",
        "#Replace for mean value\n",
        "df.fillna_test('GarageYrBlt', 'mean', 0)"
      ],
      "execution_count": 0,
      "outputs": []
    },
    {
      "cell_type": "markdown",
      "metadata": {
        "id": "r-QWK27w7ly7",
        "colab_type": "text"
      },
      "source": [
        "## Preliminary data exploration"
      ]
    },
    {
      "cell_type": "markdown",
      "metadata": {
        "id": "YWe5JAPF75Ee",
        "colab_type": "text"
      },
      "source": [
        "Initially, we plot the distribution for some categorical attributes."
      ]
    },
    {
      "cell_type": "code",
      "metadata": {
        "id": "MF0aBNZf8hwO",
        "colab_type": "code",
        "outputId": "d7cb3e97-61ad-4a67-be43-a3d403a83a03",
        "colab": {
          "base_uri": "https://localhost:8080/",
          "height": 296
        }
      },
      "source": [
        "#Alley\n",
        "plt.figure()\n",
        "sns.countplot(df.train_data['Alley'])"
      ],
      "execution_count": 0,
      "outputs": [
        {
          "output_type": "execute_result",
          "data": {
            "text/plain": [
              "<matplotlib.axes._subplots.AxesSubplot at 0x159a581c908>"
            ]
          },
          "metadata": {
            "tags": []
          },
          "execution_count": 16
        },
        {
          "output_type": "display_data",
          "data": {
            "text/plain": [
              "<Figure size 432x288 with 1 Axes>"
            ],
            "image/png": "[encoded data removed]"
          },
          "metadata": {
            "tags": [],
            "needs_background": "light"
          }
        }
      ]
    },
    {
      "cell_type": "code",
      "metadata": {
        "id": "92xceNd0PhZv",
        "colab_type": "code",
        "outputId": "99ef37d1-f54b-4d73-e55a-12ec2be68cc4",
        "colab": {
          "base_uri": "https://localhost:8080/",
          "height": 296
        }
      },
      "source": [
        "#Street\n",
        "plt.figure()\n",
        "sns.countplot(df.train_data['Street'])"
      ],
      "execution_count": 0,
      "outputs": [
        {
          "output_type": "execute_result",
          "data": {
            "text/plain": [
              "<matplotlib.axes._subplots.AxesSubplot at 0x159a581c588>"
            ]
          },
          "metadata": {
            "tags": []
          },
          "execution_count": 17
        },
        {
          "output_type": "display_data",
          "data": {
            "text/plain": [
              "<Figure size 432x288 with 1 Axes>"
            ],
            "image/png": "[encoded data removed]"
          },
          "metadata": {
            "tags": [],
            "needs_background": "light"
          }
        }
      ]
    },
    {
      "cell_type": "code",
      "metadata": {
        "id": "_tZgjg3WPhJR",
        "colab_type": "code",
        "outputId": "3b1df872-c8b4-4a49-ea13-6395421ca59c",
        "colab": {
          "base_uri": "https://localhost:8080/",
          "height": 296
        }
      },
      "source": [
        "#CentrailAir\n",
        "plt.figure()\n",
        "sns.countplot(df.train_data['CentralAir'])"
      ],
      "execution_count": 0,
      "outputs": [
        {
          "output_type": "execute_result",
          "data": {
            "text/plain": [
              "<matplotlib.axes._subplots.AxesSubplot at 0x159a9d0b908>"
            ]
          },
          "metadata": {
            "tags": []
          },
          "execution_count": 18
        },
        {
          "output_type": "display_data",
          "data": {
            "text/plain": [
              "<Figure size 432x288 with 1 Axes>"
            ],
            "image/png": "[encoded data removed]"
          },
          "metadata": {
            "tags": [],
            "needs_background": "light"
          }
        }
      ]
    },
    {
      "cell_type": "code",
      "metadata": {
        "id": "wny3P_HyPhAy",
        "colab_type": "code",
        "outputId": "2e517c92-5963-4180-e2ac-baddbee31d16",
        "colab": {
          "base_uri": "https://localhost:8080/",
          "height": 296
        }
      },
      "source": [
        "#MiscFeature\n",
        "plt.figure()\n",
        "sns.countplot(df.train_data['MiscFeature'])"
      ],
      "execution_count": 0,
      "outputs": [
        {
          "output_type": "execute_result",
          "data": {
            "text/plain": [
              "<matplotlib.axes._subplots.AxesSubplot at 0x159ab3692e8>"
            ]
          },
          "metadata": {
            "tags": []
          },
          "execution_count": 19
        },
        {
          "output_type": "display_data",
          "data": {
            "text/plain": [
              "<Figure size 432x288 with 1 Axes>"
            ],
            "image/png": "[encoded data removed]"
          },
          "metadata": {
            "tags": [],
            "needs_background": "light"
          }
        }
      ]
    },
    {
      "cell_type": "markdown",
      "metadata": {
        "id": "J2hm16p09p6T",
        "colab_type": "text"
      },
      "source": [
        "These plots show some categorical attributes present poor distribution. In this form, they offer little to no help for a regression model. Some action must be taken regarding this issue. This is discussed in more detail in the 'Data transformation' section.\n",
        "\n",
        "Now, we plot some numerical attributes histrograms.\n"
      ]
    },
    {
      "cell_type": "code",
      "metadata": {
        "id": "pdPw21gb9sq7",
        "colab_type": "code",
        "outputId": "f726ffe0-328e-4d28-f2ba-3941c83f7880",
        "colab": {
          "base_uri": "https://localhost:8080/",
          "height": 296
        }
      },
      "source": [
        "#LotArea\n",
        "plt.figure()\n",
        "sns.distplot(df.train_data['LotArea'])"
      ],
      "execution_count": 0,
      "outputs": [
        {
          "output_type": "execute_result",
          "data": {
            "text/plain": [
              "<matplotlib.axes._subplots.AxesSubplot at 0x159ab3b8d30>"
            ]
          },
          "metadata": {
            "tags": []
          },
          "execution_count": 20
        },
        {
          "output_type": "display_data",
          "data": {
            "text/plain": [
              "<Figure size 432x288 with 1 Axes>"
            ],
            "image/png": "[encoded data removed]"
          },
          "metadata": {
            "tags": [],
            "needs_background": "light"
          }
        }
      ]
    },
    {
      "cell_type": "code",
      "metadata": {
        "id": "iZH5gpaiWNoO",
        "colab_type": "code",
        "outputId": "d5663812-b1fe-4f48-f609-00aeb3095acd",
        "colab": {
          "base_uri": "https://localhost:8080/",
          "height": 296
        }
      },
      "source": [
        "#Fireplaces\n",
        "plt.figure()\n",
        "sns.distplot(df.train_data['Fireplaces'])"
      ],
      "execution_count": 0,
      "outputs": [
        {
          "output_type": "execute_result",
          "data": {
            "text/plain": [
              "<matplotlib.axes._subplots.AxesSubplot at 0x159ac41a080>"
            ]
          },
          "metadata": {
            "tags": []
          },
          "execution_count": 21
        },
        {
          "output_type": "display_data",
          "data": {
            "text/plain": [
              "<Figure size 432x288 with 1 Axes>"
            ],
            "image/png": "[encoded data removed]"
          },
          "metadata": {
            "tags": [],
            "needs_background": "light"
          }
        }
      ]
    },
    {
      "cell_type": "code",
      "metadata": {
        "id": "XnnNCikIWNdG",
        "colab_type": "code",
        "outputId": "fbb96863-7adf-4edf-e11e-917f44f9eba0",
        "colab": {
          "base_uri": "https://localhost:8080/",
          "height": 296
        }
      },
      "source": [
        "#GarageArea\n",
        "plt.figure()\n",
        "sns.distplot(df.train_data['GarageArea'])"
      ],
      "execution_count": 0,
      "outputs": [
        {
          "output_type": "execute_result",
          "data": {
            "text/plain": [
              "<matplotlib.axes._subplots.AxesSubplot at 0x159ac471278>"
            ]
          },
          "metadata": {
            "tags": []
          },
          "execution_count": 22
        },
        {
          "output_type": "display_data",
          "data": {
            "text/plain": [
              "<Figure size 432x288 with 1 Axes>"
            ],
            "image/png": "[encoded data removed]"
          },
          "metadata": {
            "tags": [],
            "needs_background": "light"
          }
        }
      ]
    },
    {
      "cell_type": "code",
      "metadata": {
        "id": "n3JlACnEWNUq",
        "colab_type": "code",
        "outputId": "ae4c8e37-0a78-4eee-95f3-702965eed05c",
        "colab": {
          "base_uri": "https://localhost:8080/",
          "height": 296
        }
      },
      "source": [
        "#WoodDeckSF\n",
        "plt.figure()\n",
        "sns.distplot(df.train_data['WoodDeckSF'])"
      ],
      "execution_count": 0,
      "outputs": [
        {
          "output_type": "execute_result",
          "data": {
            "text/plain": [
              "<matplotlib.axes._subplots.AxesSubplot at 0x159ac4dda20>"
            ]
          },
          "metadata": {
            "tags": []
          },
          "execution_count": 23
        },
        {
          "output_type": "display_data",
          "data": {
            "text/plain": [
              "<Figure size 432x288 with 1 Axes>"
            ],
            "image/png": "[encoded data removed]"
          },
          "metadata": {
            "tags": [],
            "needs_background": "light"
          }
        }
      ]
    },
    {
      "cell_type": "code",
      "metadata": {
        "id": "A5d-Lfn8WR4A",
        "colab_type": "code",
        "outputId": "7730e4cd-ea87-4247-f2be-a8aad2539d7b",
        "colab": {
          "base_uri": "https://localhost:8080/",
          "height": 296
        }
      },
      "source": [
        "#PoolArea\n",
        "plt.figure()\n",
        "sns.distplot(df.train_data['PoolArea'])"
      ],
      "execution_count": 0,
      "outputs": [
        {
          "output_type": "execute_result",
          "data": {
            "text/plain": [
              "<matplotlib.axes._subplots.AxesSubplot at 0x159ac51e978>"
            ]
          },
          "metadata": {
            "tags": []
          },
          "execution_count": 24
        },
        {
          "output_type": "display_data",
          "data": {
            "text/plain": [
              "<Figure size 432x288 with 1 Axes>"
            ],
            "image/png": "[encoded data removed]"
          },
          "metadata": {
            "tags": [],
            "needs_background": "light"
          }
        }
      ]
    },
    {
      "cell_type": "code",
      "metadata": {
        "id": "x98j5IPNWRwI",
        "colab_type": "code",
        "outputId": "3e4e1e19-86aa-40e3-bb10-8957eed7e8d0",
        "colab": {
          "base_uri": "https://localhost:8080/",
          "height": 296
        }
      },
      "source": [
        "#SalePrice\n",
        "plt.figure()\n",
        "sns.distplot(df.train_data['SalePrice'])"
      ],
      "execution_count": 0,
      "outputs": [
        {
          "output_type": "execute_result",
          "data": {
            "text/plain": [
              "<matplotlib.axes._subplots.AxesSubplot at 0x159ac5fe2b0>"
            ]
          },
          "metadata": {
            "tags": []
          },
          "execution_count": 25
        },
        {
          "output_type": "display_data",
          "data": {
            "text/plain": [
              "<Figure size 432x288 with 1 Axes>"
            ],
            "image/png": "[encoded data removed]"
          },
          "metadata": {
            "tags": [],
            "needs_background": "light"
          }
        }
      ]
    },
    {
      "cell_type": "markdown",
      "metadata": {
        "id": "c9ZQzDR4_jVg",
        "colab_type": "text"
      },
      "source": [
        "The numerical plots show some attributes present very skewed distribution. This also requires some further analysis to define the best course of action in each case. More on 'Data transformation'."
      ]
    },
    {
      "cell_type": "markdown",
      "metadata": {
        "id": "BWWKF92NArfZ",
        "colab_type": "text"
      },
      "source": [
        "## Investigating numerical attributes"
      ]
    },
    {
      "cell_type": "markdown",
      "metadata": {
        "id": "6jm-uPznFgDw",
        "colab_type": "text"
      },
      "source": [
        "First, we investigate how some numerical attributes relate to the target value.\n",
        "\n",
        "These attributes were chosen based on subjective perception of their importance to 'SalePrice'."
      ]
    },
    {
      "cell_type": "code",
      "metadata": {
        "id": "pnfsxB4YAyK0",
        "colab_type": "code",
        "outputId": "3e79162a-bb51-4a93-c2aa-1d7a5bad73a4",
        "colab": {
          "base_uri": "https://localhost:8080/",
          "height": 568
        }
      },
      "source": [
        "#Select attributes to investigate\n",
        "inv_cols = ['WoodDeckSF', 'OpenPorchSF', 'EnclosedPorch', '3SsnPorch', \n",
        "            'ScreenPorch', 'PoolArea', 'MiscVal', 'SalePrice']\n",
        "\n",
        "plt.figure(figsize = (9,8))\n",
        "sns.heatmap(data = df.train_data[inv_cols].corr(), annot = True)"
      ],
      "execution_count": 0,
      "outputs": [
        {
          "output_type": "execute_result",
          "data": {
            "text/plain": [
              "<matplotlib.axes._subplots.AxesSubplot at 0x159ad0ae160>"
            ]
          },
          "metadata": {
            "tags": []
          },
          "execution_count": 44
        },
        {
          "output_type": "display_data",
          "data": {
            "text/plain": [
              "<Figure size 648x576 with 2 Axes>"
            ],
            "image/png": "[encoded data removed]"
          },
          "metadata": {
            "tags": [],
            "needs_background": "light"
          }
        }
      ]
    },
    {
      "cell_type": "markdown",
      "metadata": {
        "id": "MwPBpZzlCr6c",
        "colab_type": "text"
      },
      "source": [
        "At this stage, we are only going to make decisions regarding attributes\n",
        "with really poor behavior in our analysis.\n",
        "\n",
        "For instance, given the correlation map above, only the following attributes will be selected for removal:\n",
        "\n",
        "* 'MiscVal'\n",
        "* '3SsnPorch'\n",
        "* 'PoolArea'\n",
        "\n",
        "obs: These attributes will not be removed now, for they may be used later on the 'Data transformation' section."
      ]
    },
    {
      "cell_type": "code",
      "metadata": {
        "id": "6Ll1dlq-CVe6",
        "colab_type": "code",
        "colab": {}
      },
      "source": [
        "to_remove = ['MiscVal', '3SsnPorch', 'PoolArea']"
      ],
      "execution_count": 0,
      "outputs": []
    },
    {
      "cell_type": "markdown",
      "metadata": {
        "id": "Ml_3Qw0TGLdf",
        "colab_type": "text"
      },
      "source": [
        "The next step is to evalute skewness to the numerical attributes."
      ]
    },
    {
      "cell_type": "code",
      "metadata": {
        "id": "ELQpSYgHGW7w",
        "colab_type": "code",
        "outputId": "cf576f59-2af7-41f6-b25c-f3de52116c4f",
        "colab": {
          "base_uri": "https://localhost:8080/",
          "height": 646
        }
      },
      "source": [
        "num_atr = df.train_data.select_dtypes(exclude = ['object']).columns.values\n",
        "skew_atr = np.abs(pd.Series(data = skew(df.train_data[num_atr].copy()), \n",
        "                            index = num_atr))\n",
        "skew_atr.sort_values(ascending = False)"
      ],
      "execution_count": 0,
      "outputs": [
        {
          "output_type": "execute_result",
          "data": {
            "text/plain": [
              "MiscVal          24.451640\n",
              "PoolArea         14.813135\n",
              "LotArea          12.195142\n",
              "3SsnPorch        10.293752\n",
              "LowQualFinSF      9.002080\n",
              "KitchenAbvGr      4.483784\n",
              "BsmtFinSF2        4.250888\n",
              "ScreenPorch       4.117977\n",
              "BsmtHalfBath      4.099186\n",
              "EnclosedPorch     3.086696\n",
              "MasVnrArea        2.674865\n",
              "OpenPorchSF       2.361912\n",
              "SalePrice         1.880941\n",
              "BsmtFinSF1        1.683771\n",
              "WoodDeckSF        1.539792\n",
              "TotalBsmtSF       1.522688\n",
              "MSSubClass        1.406210\n",
              "1stFlrSF          1.375342\n",
              "GrLivArea         1.365156\n",
              "BsmtUnfSF         0.919323\n",
              "2ndFlrSF          0.812194\n",
              "OverallCond       0.692355\n",
              "TotRmsAbvGrd      0.675646\n",
              "HalfBath          0.675203\n",
              "GarageYrBlt       0.667488\n",
              "Fireplaces        0.648898\n",
              "YearBuilt         0.612831\n",
              "BsmtFullBath      0.595454\n",
              "YearRemodAdd      0.503044\n",
              "GarageCars        0.342197\n",
              "OverallQual       0.216721\n",
              "MoSold            0.211835\n",
              "BedroomAbvGr      0.211572\n",
              "GarageArea        0.179796\n",
              "YrSold            0.096170\n",
              "FullBath          0.036524\n",
              "dtype: float64"
            ]
          },
          "metadata": {
            "tags": []
          },
          "execution_count": 29
        }
      ]
    },
    {
      "cell_type": "markdown",
      "metadata": {
        "id": "D9YOoMrbJB8X",
        "colab_type": "text"
      },
      "source": [
        "From the values above, we select the most skewed attributes."
      ]
    },
    {
      "cell_type": "code",
      "metadata": {
        "id": "Ewww5v2oI8ZE",
        "colab_type": "code",
        "outputId": "cc1397e7-aaf9-4ae1-eae5-2030a8286ccd",
        "colab": {
          "base_uri": "https://localhost:8080/",
          "height": 170
        }
      },
      "source": [
        "#Select most skewed attributes\n",
        "most_skew = [x for x in skew_atr.index if skew_atr[x] > np.mean(skew_atr)]\n",
        "most_skew"
      ],
      "execution_count": 0,
      "outputs": [
        {
          "output_type": "execute_result",
          "data": {
            "text/plain": [
              "['LotArea',\n",
              " 'BsmtFinSF2',\n",
              " 'LowQualFinSF',\n",
              " 'BsmtHalfBath',\n",
              " 'KitchenAbvGr',\n",
              " '3SsnPorch',\n",
              " 'ScreenPorch',\n",
              " 'PoolArea',\n",
              " 'MiscVal']"
            ]
          },
          "metadata": {
            "tags": []
          },
          "execution_count": 30
        }
      ]
    },
    {
      "cell_type": "markdown",
      "metadata": {
        "id": "y8Cg7P1vKkTl",
        "colab_type": "text"
      },
      "source": [
        "We then investigate their relationship to 'SalePrice' in their current form."
      ]
    },
    {
      "cell_type": "code",
      "metadata": {
        "id": "5tZvLD2aKlED",
        "colab_type": "code",
        "outputId": "f9d712be-15b8-443e-fd31-73e9710873f2",
        "colab": {
          "base_uri": "https://localhost:8080/",
          "height": 565
        }
      },
      "source": [
        "#Plot heatmap for skewed attributes\n",
        "plot_skew_cols = most_skew + ['SalePrice']\n",
        "\n",
        "plt.figure(figsize = (9,8))\n",
        "sns.heatmap(data = df.train_data[plot_skew_cols].corr(), annot = True)"
      ],
      "execution_count": 0,
      "outputs": [
        {
          "output_type": "execute_result",
          "data": {
            "text/plain": [
              "<matplotlib.axes._subplots.AxesSubplot at 0x159ac6bfbe0>"
            ]
          },
          "metadata": {
            "tags": []
          },
          "execution_count": 31
        },
        {
          "output_type": "display_data",
          "data": {
            "text/plain": [
              "<Figure size 648x576 with 2 Axes>"
            ],
            "image/png": "[encoded data removed]"
          },
          "metadata": {
            "tags": [],
            "needs_background": "light"
          }
        }
      ]
    },
    {
      "cell_type": "markdown",
      "metadata": {
        "id": "EJ8znhY_LcEA",
        "colab_type": "text"
      },
      "source": [
        "As expected, most of the skewed attributes have poor 'SalePrice' correlations.\n",
        "\n",
        "We now apply a transformation in order to verify whether it affects its relationship to the target value."
      ]
    },
    {
      "cell_type": "code",
      "metadata": {
        "id": "pp3XhLoyLbBK",
        "colab_type": "code",
        "outputId": "0ddf69d9-0bc0-489e-d843-8bc9ebd61e75",
        "colab": {
          "base_uri": "https://localhost:8080/",
          "height": 565
        }
      },
      "source": [
        "#Apply log(value + 1) transformation to skewed data\n",
        "skewed_df = np.log(df.train_data[most_skew].copy() + 1)\n",
        "skewed_df['SalePrice'] = df.train_data['SalePrice'].values\n",
        "\n",
        "plt.figure(figsize = (9,8))\n",
        "sns.heatmap(data = skewed_df.corr(), annot = True)"
      ],
      "execution_count": 0,
      "outputs": [
        {
          "output_type": "execute_result",
          "data": {
            "text/plain": [
              "<matplotlib.axes._subplots.AxesSubplot at 0x159ac911358>"
            ]
          },
          "metadata": {
            "tags": []
          },
          "execution_count": 32
        },
        {
          "output_type": "display_data",
          "data": {
            "text/plain": [
              "<Figure size 648x576 with 2 Axes>"
            ],
            "image/png": "[encoded data removed]"
          },
          "metadata": {
            "tags": [],
            "needs_background": "light"
          }
        }
      ]
    },
    {
      "cell_type": "markdown",
      "metadata": {
        "id": "WgtE3db3M607",
        "colab_type": "text"
      },
      "source": [
        "The comparison between the two heatmaps shows the transformation has a positive effect on the following attributes:\n",
        "\n",
        "* 'LotArea'\n",
        "* 'BsmtFinSF2'\n",
        "* 'LowQualFinSF'\n",
        "* 'MiscVal'\n",
        "\n",
        "This results sugests the above listed attributes should be transformed for the regression model training. The remaining attributes show no correlation improvement, therefore should not be transformed.\n",
        "\n",
        "An important final observation is the attributes to be transformed are not necessarily well correlated to 'SalePrice' and are still required to go trough more analysis before they are selected to the regression model. This evaluation cocerns only the attributes skewness handling."
      ]
    },
    {
      "cell_type": "code",
      "metadata": {
        "id": "Zlm_TGOCr5os",
        "colab_type": "code",
        "colab": {}
      },
      "source": [
        "to_transform = ['LotArea', 'BsmtFinSF2', 'LowQualFinSF', 'MiscVal']"
      ],
      "execution_count": 0,
      "outputs": []
    },
    {
      "cell_type": "markdown",
      "metadata": {
        "id": "KFG16KIXPVH8",
        "colab_type": "text"
      },
      "source": [
        "## Investigate categorical attributes"
      ]
    },
    {
      "cell_type": "code",
      "metadata": {
        "id": "R3W5SHl6PnO4",
        "colab_type": "code",
        "colab": {}
      },
      "source": [
        "#Select categorical attributes\n",
        "cat_atr = df.train_data.select_dtypes(include = ['object']).columns.values\n",
        "print(cat_atr)"
      ],
      "execution_count": 0,
      "outputs": []
    },
    {
      "cell_type": "markdown",
      "metadata": {
        "id": "0Y1R_1aYu0Xn",
        "colab_type": "text"
      },
      "source": [
        "As shown previously, some of the categorical attributes present very poor distribution. This can seriously affect how much a feature is able to contribute to the machine learning algorithm.\n",
        "\n",
        "To properly identify the most poorly distributed attributes we compute the importance of the most common value for each categorical feature."
      ]
    },
    {
      "cell_type": "code",
      "metadata": {
        "id": "tnkaAAVovPS8",
        "colab_type": "code",
        "colab": {}
      },
      "source": [
        "#Compute percentage of attributes data corresponding to its most common value\n",
        "pct = []\n",
        "for col in cat_atr:\n",
        "  pct.append(df.train_data[col].value_counts()[0] / df.train_data.shape[0])\n",
        "\n",
        "atr_dist = pd.Series(data = pct, index = cat_atr).sort_values(ascending = False)\n",
        "print(atr_dist)"
      ],
      "execution_count": 0,
      "outputs": []
    },
    {
      "cell_type": "markdown",
      "metadata": {
        "id": "9RWCf65vwZV7",
        "colab_type": "text"
      },
      "source": [
        "We then select those attributes with the worst distributions and plot them so that we can have a better idea of how they behave."
      ]
    },
    {
      "cell_type": "code",
      "metadata": {
        "id": "WGXTThHMw60R",
        "colab_type": "code",
        "colab": {}
      },
      "source": [
        "dist_limit = 0.9\n",
        "worst_dist = [x for x in atr_dist.index if atr_dist[x] >= dist_limit]\n",
        "\n",
        "for col in worst_dist:\n",
        "  plt.figure()\n",
        "  sns.countplot(df.train_data[col])"
      ],
      "execution_count": 0,
      "outputs": []
    },
    {
      "cell_type": "markdown",
      "metadata": {
        "id": "MEs4kaEHyBh6",
        "colab_type": "text"
      },
      "source": [
        "From the plots shown above, it becomes clear some features have little to offer in a regression model. The best course of action is to remove them. They are:\n",
        "\n",
        "* 'Utilities'\n",
        "* 'Street'\n",
        "* 'PoolQC'\n",
        "* 'Condition2'\n",
        "* 'RoofMatl'\n",
        "* 'Heating'\n",
        "\n",
        "As for the other attributes, some more in depth analysis will be conducted to have a better idea of how well they can help the predictive model."
      ]
    },
    {
      "cell_type": "code",
      "metadata": {
        "id": "mB2rbTJ1y7th",
        "colab_type": "code",
        "colab": {}
      },
      "source": [
        "to_remove += ['Utilities', 'Street', 'PoolQC', 'Condition2', 'RoofMatl', \n",
        "              'Heating']"
      ],
      "execution_count": 0,
      "outputs": []
    },
    {
      "cell_type": "markdown",
      "metadata": {
        "id": "WsKlXZi9vFMA",
        "colab_type": "text"
      },
      "source": [
        "# Data transformation"
      ]
    },
    {
      "cell_type": "markdown",
      "metadata": {
        "id": "tNpLHP3JvTXM",
        "colab_type": "text"
      },
      "source": [
        "The data analysis has shown us the various attributes require different approaches in order to extract the maximum amount of useful information for the regression model.\n",
        "\n",
        "Right now, our goal is to:\n",
        "\n",
        "1.   Identify whether or not each feature requires transformation;\n",
        "2.   Choose the ideal transformation to each feature.\n"
      ]
    },
    {
      "cell_type": "markdown",
      "metadata": {
        "id": "muIdGuC-A4IK",
        "colab_type": "text"
      },
      "source": [
        "## Preliminary attribute selection"
      ]
    },
    {
      "cell_type": "markdown",
      "metadata": {
        "id": "92xC793hA-sk",
        "colab_type": "text"
      },
      "source": [
        "We have already selected a few attributes to be removed. Before any of the actual data transformation takes place, let's remove these features from our dataset."
      ]
    },
    {
      "cell_type": "code",
      "metadata": {
        "id": "1LdkfRD3BfF3",
        "colab_type": "code",
        "colab": {}
      },
      "source": [
        "#Remove selected attributes\n",
        "df.remove_atr(to_remove)"
      ],
      "execution_count": 0,
      "outputs": []
    },
    {
      "cell_type": "markdown",
      "metadata": {
        "id": "evSaR1E2N7pM",
        "colab_type": "text"
      },
      "source": [
        "## Numerical attributes"
      ]
    },
    {
      "cell_type": "code",
      "metadata": {
        "id": "Ef-MQw_SOAp8",
        "colab_type": "code",
        "outputId": "64d566a6-5e7b-401d-9d6a-9c7f27612ee9",
        "colab": {
          "base_uri": "https://localhost:8080/",
          "height": 136
        }
      },
      "source": [
        "#Reselect numerical attributes\n",
        "num_atr = df.train_data.select_dtypes(exclude = ['object']).columns.values\n",
        "print(num_atr)"
      ],
      "execution_count": 0,
      "outputs": [
        {
          "output_type": "stream",
          "text": [
            "['MSSubClass' 'LotArea' 'OverallQual' 'OverallCond' 'YearBuilt'\n",
            " 'YearRemodAdd' 'MasVnrArea' 'BsmtFinSF1' 'BsmtFinSF2' 'BsmtUnfSF'\n",
            " 'TotalBsmtSF' '1stFlrSF' '2ndFlrSF' 'LowQualFinSF' 'GrLivArea'\n",
            " 'BsmtFullBath' 'BsmtHalfBath' 'FullBath' 'HalfBath' 'BedroomAbvGr'\n",
            " 'KitchenAbvGr' 'TotRmsAbvGrd' 'Fireplaces' 'GarageYrBlt' 'GarageCars'\n",
            " 'GarageArea' 'WoodDeckSF' 'OpenPorchSF' 'EnclosedPorch' 'ScreenPorch'\n",
            " 'MoSold' 'YrSold' 'SalePrice']\n"
          ],
          "name": "stdout"
        }
      ]
    },
    {
      "cell_type": "markdown",
      "metadata": {
        "id": "1VkWFadoT-bW",
        "colab_type": "text"
      },
      "source": [
        "The only transformation to be done for the numerical attributes is the skewness treatment."
      ]
    },
    {
      "cell_type": "code",
      "metadata": {
        "id": "aGctzoweUVIY",
        "colab_type": "code",
        "outputId": "3997ac02-fc78-4df8-803b-d8771dd114b4",
        "colab": {
          "base_uri": "https://localhost:8080/",
          "height": 34
        }
      },
      "source": [
        "to_transform = [x for x in to_transform if x not in to_remove]\n",
        "print(to_transform)"
      ],
      "execution_count": 0,
      "outputs": [
        {
          "output_type": "stream",
          "text": [
            "['LotArea', 'BsmtFinSF2', 'LowQualFinSF']\n"
          ],
          "name": "stdout"
        }
      ]
    },
    {
      "cell_type": "code",
      "metadata": {
        "id": "HWnLi35NUgXK",
        "colab_type": "code",
        "colab": {}
      },
      "source": [
        "for col in to_transform:\n",
        "  df.train_data[col] = np.log(df.train_data[col] + 1)\n",
        "  df.test_data[col] = np.log(df.test_data[col] + 1)"
      ],
      "execution_count": 0,
      "outputs": []
    },
    {
      "cell_type": "markdown",
      "metadata": {
        "id": "Tnk7dAR513ul",
        "colab_type": "text"
      },
      "source": [
        "## Categorical attributes"
      ]
    },
    {
      "cell_type": "markdown",
      "metadata": {
        "id": "SO61ljj427-d",
        "colab_type": "text"
      },
      "source": [
        "The categorical attributes can be split into two groups based on the nature of their values:\n",
        "\n",
        "1. Ordinal categoric values\n",
        "2. Non-ordinal categoric values \n",
        "\n",
        "The main difference between these two groups is the second one requires a OneHotEnconding treatment, while the first group doest not requires a specific type of encoding. Given the data description [file](https://storage.googleapis.com/kaggle-competitions-data/kaggle/5407/205873/data_description.txt?GoogleAccessId=web-data@kaggle-161607.iam.gserviceaccount.com&Expires=1563642550&Signature=HuaV551Ss3xOzw9Dm2CrqvkPVeXcMhZBnEz3WqCIGnq4RKgr%2FLl4WoRyw%2B4cwlhKKsoudaMVO3QpM5Zjb4SEljQhMmrDLqCd4e3FNY8gKiaqhngp9499ymwGZWC92TzUJPJYiJuBAKMcO%2FEF7ZcKOAy8OPrRJ6USqakiVqoWn3UJIWqRAQ2t1qPcTOO7mBctvnPr33HkLajgA6zSAVLi6egVN34P6MH7gEhGf3hYyjl%2BbdnOT56sedvzGU7%2BAlFk1hyCyJ4QmqBdjErhTRQhEAfWaH5XLnINuZFQ6mKWUN3%2FKdJC6mpqBANbgN0DY06MUZtxlFiTuzvhYTbRpABW5A%3D%3D), we can easily identify which attributes belong to each group."
      ]
    },
    {
      "cell_type": "code",
      "metadata": {
        "id": "8J7ee8S350g4",
        "colab_type": "code",
        "outputId": "0b4c8734-e748-498f-c27a-b98fc543f74c",
        "colab": {
          "base_uri": "https://localhost:8080/",
          "height": 153
        }
      },
      "source": [
        "#Reselect categorical attributes\n",
        "cat_atr = df.train_data.select_dtypes(include = ['object']).columns.values\n",
        "print(cat_atr)"
      ],
      "execution_count": 0,
      "outputs": [
        {
          "output_type": "stream",
          "text": [
            "['MSZoning' 'Alley' 'LotShape' 'LandContour' 'LotConfig' 'LandSlope'\n",
            " 'Neighborhood' 'Condition1' 'BldgType' 'HouseStyle' 'RoofStyle'\n",
            " 'Exterior1st' 'Exterior2nd' 'MasVnrType' 'ExterQual' 'ExterCond'\n",
            " 'Foundation' 'BsmtQual' 'BsmtCond' 'BsmtExposure' 'BsmtFinType1'\n",
            " 'BsmtFinType2' 'HeatingQC' 'CentralAir' 'Electrical' 'KitchenQual'\n",
            " 'Functional' 'FireplaceQu' 'GarageType' 'GarageFinish' 'GarageQual'\n",
            " 'GarageCond' 'PavedDrive' 'Fence' 'MiscFeature' 'SaleType'\n",
            " 'SaleCondition']\n"
          ],
          "name": "stdout"
        }
      ]
    },
    {
      "cell_type": "code",
      "metadata": {
        "id": "QP5IGdvC27Qu",
        "colab_type": "code",
        "colab": {}
      },
      "source": [
        "#Ordinal categorical attributes\n",
        "ord_cat_atr = ['LotShape', 'LandSlope', 'ExterQual', 'ExterCond', 'BsmtQual',\n",
        "              'BsmtCond', 'BsmtExposure', 'BsmtFinType1', 'BsmtFinType2',\n",
        "              'HeatingQC', 'KitchenQual', 'Functional', 'FireplaceQu',\n",
        "              'GarageFinish', 'GarageQual', 'GarageCond', 'PavedDrive',\n",
        "              'Fence']\n",
        "\n",
        "#Non-ordinal categorical attributes\n",
        "nord_cat_atr = [x for x in cat_atr if x not in ord_cat_atr]\n"
      ],
      "execution_count": 0,
      "outputs": []
    },
    {
      "cell_type": "markdown",
      "metadata": {
        "id": "rJmiWWCRDVGQ",
        "colab_type": "text"
      },
      "source": [
        "First, we encode the ordinal categorical attributes."
      ]
    },
    {
      "cell_type": "code",
      "metadata": {
        "id": "s1Qw4TfwDhh6",
        "colab_type": "code",
        "colab": {}
      },
      "source": [
        "#Create encoding dictionary\n",
        "encoder_dict = {'LotShape': {'Reg': 0, 'IR1': 1, 'IR2': 2, 'IR3': 3},\n",
        "               'LandSlope': {'Gtl': 0, 'Mod': 1, 'Sev': 2},\n",
        "               'ExterQual': {'Ex': 4, 'Gd': 3, 'TA': 2, 'Fa': 1, 'Po': 0},\n",
        "               'ExterCond': {'Ex': 4, 'Gd': 3, 'TA': 2, 'Fa': 1, 'Po': 0},\n",
        "               'BsmtQual': {'Ex': 5, 'Gd': 4, 'TA': 3, 'Fa': 2, 'Po': 1, 'None': 0},\n",
        "               'BsmtCond': {'Ex': 5, 'Gd': 4, 'TA': 3, 'Fa': 2, 'Po': 1, 'None': 0},\n",
        "               'BsmtExposure': {'Gd': 4, 'Av': 3, 'Mn': 2, 'No': 1, 'None': 0},\n",
        "               'BsmtFinType1': {'GLQ': 6, 'ALQ': 5, 'BLQ': 4, 'Rec': 3, 'LwQ': 2, 'Unf': 1, 'None': 0},\n",
        "               'BsmtFinType2': {'GLQ': 6, 'ALQ': 5, 'BLQ': 4, 'Rec': 3, 'LwQ': 2, 'Unf': 1, 'None': 0},\n",
        "               'HeatingQC': {'Ex': 4, 'Gd': 3, 'TA': 2, 'Fa': 1, 'Po': 0},\n",
        "               'KitchenQual': {'Ex': 4, 'Gd': 3, 'TA': 2, 'Fa': 1, 'Po': 0},\n",
        "               'Functional': {'Typ': 7, 'Min1': 6, 'Min2': 5, 'Mod': 4, 'Maj1': 3, 'Maj2': 2, 'Sev': 1, 'Sal': 0},\n",
        "               'FireplaceQu': {'Ex': 5, 'Gd': 4, 'TA': 3, 'Fa': 2, 'Po': 1, 'None': 0},\n",
        "               'GarageFinish': {'Fin': 3, 'RFn': 2, 'Unf': 1, 'None': 0},\n",
        "               'GarageQual': {'Ex': 5, 'Gd': 4, 'TA': 3, 'Fa': 2, 'Po': 1, 'None': 0},\n",
        "               'GarageCond': {'Ex': 5, 'Gd': 4, 'TA': 3, 'Fa': 2, 'Po': 1, 'None': 0},\n",
        "               'PavedDrive': {'Y': 2, 'P': 1, 'N': 0},\n",
        "               'Fence': {'GdPrv': 4, 'MnPrv': 3, 'GdWo': 2, 'MnWw': 1, 'None': 0}}"
      ],
      "execution_count": 0,
      "outputs": []
    },
    {
      "cell_type": "code",
      "metadata": {
        "id": "LJ2fN_rgLa3E",
        "colab_type": "code",
        "colab": {}
      },
      "source": [
        "#Encode attributes\n",
        "df.train_data.replace(encoder_dict, inplace = True)\n",
        "df.test_data.replace(encoder_dict, inplace = True)"
      ],
      "execution_count": 0,
      "outputs": []
    },
    {
      "cell_type": "markdown",
      "metadata": {
        "id": "nogUejhH-NRs",
        "colab_type": "text"
      },
      "source": [
        "Now, the one-hot enconding is performed for the entire dataset at once."
      ]
    },
    {
      "cell_type": "code",
      "metadata": {
        "id": "KYDjYgh5-I4N",
        "colab_type": "code",
        "colab": {}
      },
      "source": [
        "#Apply OneHotEncoding to attributes\n",
        "dataset = df.train_data.append(df.test_data, sort = False)\n",
        "dataset = df.one_encoder(dataset, nord_cat_atr)"
      ],
      "execution_count": 0,
      "outputs": []
    },
    {
      "cell_type": "markdown",
      "metadata": {
        "id": "gXfOCbtB26po",
        "colab_type": "text"
      },
      "source": [
        "# Regression model"
      ]
    },
    {
      "cell_type": "markdown",
      "metadata": {
        "id": "B508XZma29fg",
        "colab_type": "text"
      },
      "source": [
        "For the regression model, we are going to apply a Multilayer Perceptron network using the Keras library.\n",
        "\n",
        "The first step is then to define the neural network as a function."
      ]
    },
    {
      "cell_type": "code",
      "metadata": {
        "id": "cc6nIbyY33UN",
        "colab_type": "code",
        "colab": {}
      },
      "source": [
        "def mlp_regression(n_in, n_out, n_nodes, n_layers, act, loss_f, opt, drop):\n",
        "  model = Sequential()\n",
        "  model.add(Dense(units = n_nodes, activation = act, input_dim = n_in))\n",
        "  model.add(Dropout(drop))\n",
        "  for i in range(n_layers):\n",
        "    model.add(Dense(units = n_nodes, activation = act))\n",
        "    model.add(Dropout(drop))\n",
        "  model.add(Dense(units = n_out, activation = 'linear'))\n",
        "  \n",
        "  model.compile(optimizer = opt, loss = loss_f, \n",
        "                metrics = ['mean_squared_error'])\n",
        "  return model"
      ],
      "execution_count": 0,
      "outputs": []
    },
    {
      "cell_type": "markdown",
      "metadata": {
        "id": "pGE1H0nR5Q_8",
        "colab_type": "text"
      },
      "source": [
        "We now split the treated data into train and test datasets once again:"
      ]
    },
    {
      "cell_type": "code",
      "metadata": {
        "id": "K33q1y1p5PRw",
        "colab_type": "code",
        "colab": {}
      },
      "source": [
        "train_dataset = dataset.iloc[:df.train_data.shape[0],:]\n",
        "test_dataset = dataset.iloc[df.train_data.shape[0]:,:]"
      ],
      "execution_count": 0,
      "outputs": []
    },
    {
      "cell_type": "markdown",
      "metadata": {
        "id": "C3g2FvX6AyQv",
        "colab_type": "text"
      },
      "source": [
        "Finally, the train data is split between attributes and target:"
      ]
    },
    {
      "cell_type": "code",
      "metadata": {
        "id": "t5G2F9Y2AxQh",
        "colab_type": "code",
        "colab": {}
      },
      "source": [
        "target = train_dataset['SalePrice'].values\n",
        "atr = train_dataset.drop(columns = 'SalePrice').values"
      ],
      "execution_count": 0,
      "outputs": []
    },
    {
      "cell_type": "markdown",
      "metadata": {
        "id": "HwF3BL4s6KhS",
        "colab_type": "text"
      },
      "source": [
        "## Tuning hyperparameters"
      ]
    },
    {
      "cell_type": "markdown",
      "metadata": {
        "id": "9KR8Bwoo6Nea",
        "colab_type": "text"
      },
      "source": [
        "In order to guarantee optimal performance, we first have to tune the regression model hyperparameters. To do that, we must write our model in the following form:"
      ]
    },
    {
      "cell_type": "code",
      "metadata": {
        "id": "YKBFkByY5AGg",
        "colab_type": "code",
        "colab": {}
      },
      "source": [
        "model = KerasRegressor(build_fn = mlp_regression)"
      ],
      "execution_count": 0,
      "outputs": []
    },
    {
      "cell_type": "markdown",
      "metadata": {
        "id": "qeFV2cVX6_mJ",
        "colab_type": "text"
      },
      "source": [
        "The next step is to set the hyperparameters grid. "
      ]
    },
    {
      "cell_type": "code",
      "metadata": {
        "id": "JT593ft0vaHC",
        "colab_type": "code",
        "colab": {}
      },
      "source": [
        "param = {'n_in': [atr.shape[1]],\n",
        "         'n_out': [1],\n",
        "         'n_layers': [0, 1, 2, 4],\n",
        "         'n_nodes': [30, 50, 80, 100],\n",
        "         'opt': ['adam'],\n",
        "         'act': ['relu'],\n",
        "         'loss_f': ['mse'],\n",
        "         'drop': [0.0, 0.2, 0.3],\n",
        "         'batch_size': [10, 30, 50],\n",
        "         'epochs': [1000]}"
      ],
      "execution_count": 0,
      "outputs": []
    },
    {
      "cell_type": "code",
      "metadata": {
        "id": "5Jg-kqb8vqSv",
        "colab_type": "code",
        "colab": {}
      },
      "source": [
        "final_grid = GridSearchCV(estimator = model,\n",
        "                     param_grid = param,\n",
        "                     scoring = 'neg_mean_squared_error',\n",
        "                     cv = 5,\n",
        "                     n_jobs = 10,\n",
        "                     verbose = 2)\n",
        "final_grid.fit(atr, target)"
      ],
      "execution_count": 0,
      "outputs": []
    },
    {
      "cell_type": "code",
      "metadata": {
        "id": "SkLeDuy3vvq7",
        "colab_type": "code",
        "outputId": "15c13638-8dcb-45a8-d16a-13cb5a066626",
        "colab": {
          "base_uri": "https://localhost:8080/",
          "height": 275
        }
      },
      "source": [
        "#Save grid results\n",
        "final_df = pd.DataFrame(data = final_grid.cv_results_)\n",
        "final_df.to_csv('final_grid.csv')"
      ],
      "execution_count": 0,
      "outputs": [
        {
          "output_type": "stream",
          "text": [
            "C:\\Users\\raiss\\Anaconda3\\lib\\site-packages\\sklearn\\utils\\deprecation.py:125: FutureWarning: You are accessing a training score ('split0_train_score'), which will not be available by default any more in 0.21. If you need training scores, please set return_train_score=True\n",
            "  warnings.warn(*warn_args, **warn_kwargs)\n",
            "C:\\Users\\raiss\\Anaconda3\\lib\\site-packages\\sklearn\\utils\\deprecation.py:125: FutureWarning: You are accessing a training score ('split1_train_score'), which will not be available by default any more in 0.21. If you need training scores, please set return_train_score=True\n",
            "  warnings.warn(*warn_args, **warn_kwargs)\n",
            "C:\\Users\\raiss\\Anaconda3\\lib\\site-packages\\sklearn\\utils\\deprecation.py:125: FutureWarning: You are accessing a training score ('split2_train_score'), which will not be available by default any more in 0.21. If you need training scores, please set return_train_score=True\n",
            "  warnings.warn(*warn_args, **warn_kwargs)\n",
            "C:\\Users\\raiss\\Anaconda3\\lib\\site-packages\\sklearn\\utils\\deprecation.py:125: FutureWarning: You are accessing a training score ('split3_train_score'), which will not be available by default any more in 0.21. If you need training scores, please set return_train_score=True\n",
            "  warnings.warn(*warn_args, **warn_kwargs)\n",
            "C:\\Users\\raiss\\Anaconda3\\lib\\site-packages\\sklearn\\utils\\deprecation.py:125: FutureWarning: You are accessing a training score ('split4_train_score'), which will not be available by default any more in 0.21. If you need training scores, please set return_train_score=True\n",
            "  warnings.warn(*warn_args, **warn_kwargs)\n",
            "C:\\Users\\raiss\\Anaconda3\\lib\\site-packages\\sklearn\\utils\\deprecation.py:125: FutureWarning: You are accessing a training score ('mean_train_score'), which will not be available by default any more in 0.21. If you need training scores, please set return_train_score=True\n",
            "  warnings.warn(*warn_args, **warn_kwargs)\n",
            "C:\\Users\\raiss\\Anaconda3\\lib\\site-packages\\sklearn\\utils\\deprecation.py:125: FutureWarning: You are accessing a training score ('std_train_score'), which will not be available by default any more in 0.21. If you need training scores, please set return_train_score=True\n",
            "  warnings.warn(*warn_args, **warn_kwargs)\n"
          ],
          "name": "stderr"
        }
      ]
    },
    {
      "cell_type": "markdown",
      "metadata": {
        "id": "JDN5fdUiWk2D",
        "colab_type": "text"
      },
      "source": [
        "### Test tuned model"
      ]
    },
    {
      "cell_type": "code",
      "metadata": {
        "id": "PDCuuG2SQoRV",
        "colab_type": "code",
        "colab": {}
      },
      "source": [
        "#Test final model\n",
        "best_p = final_grid.best_params_\n",
        "\n",
        "final_model = KerasRegressor(build_fn = mlp_regression,                      \n",
        "                            n_in = best_p['n_in'],\n",
        "                            n_out = best_p['n_out'],\n",
        "                            n_layers = best_p['n_layers'],\n",
        "                            n_nodes = best_p['n_nodes'],\n",
        "                            drop = best_p['drop'],\n",
        "                            act = best_p['act'],\n",
        "                            opt = best_p['opt'],\n",
        "                            loss_f = best_p['loss_f'],\n",
        "                            batch_size = best_p['batch_size'],\n",
        "                            epochs = best_p['epochs'])"
      ],
      "execution_count": 0,
      "outputs": []
    },
    {
      "cell_type": "code",
      "metadata": {
        "id": "y-z8EVkvSFXT",
        "colab_type": "code",
        "outputId": "d181b3ae-0c24-454c-9b23-5e02c9505f7e",
        "colab": {
          "base_uri": "https://localhost:8080/",
          "height": 122
        }
      },
      "source": [
        "#Cross validate final model\n",
        "score = cross_val_score(estimator = final_model,\n",
        "                       X = atr,\n",
        "                       y = target,\n",
        "                       scoring = 'neg_mean_squared_log_error',\n",
        "                       cv = 10,\n",
        "                       n_jobs = 10,\n",
        "                       verbose = 2)"
      ],
      "execution_count": 0,
      "outputs": [
        {
          "output_type": "stream",
          "text": [
            "[Parallel(n_jobs=10)]: Using backend LokyBackend with 10 concurrent workers.\n",
            "C:\\Users\\raiss\\Anaconda3\\lib\\site-packages\\sklearn\\externals\\joblib\\externals\\loky\\process_executor.py:706: UserWarning: A worker stopped while some jobs were given to the executor. This can be caused by a too short worker timeout or by a memory leak.\n",
            "  \"timeout or by a memory leak.\", UserWarning\n",
            "[Parallel(n_jobs=10)]: Done   3 out of  10 | elapsed: 15.1min remaining: 35.3min\n",
            "[Parallel(n_jobs=10)]: Done  10 out of  10 | elapsed: 16.6min finished\n"
          ],
          "name": "stderr"
        }
      ]
    },
    {
      "cell_type": "code",
      "metadata": {
        "id": "Zozjen8eV92d",
        "colab_type": "code",
        "outputId": "b8a74c0b-a698-44ad-cab4-04e6436c06dd",
        "colab": {
          "base_uri": "https://localhost:8080/",
          "height": 51
        }
      },
      "source": [
        "#Print final model result\n",
        "print(np.abs(np.mean(score)))\n",
        "print(np.std(score))"
      ],
      "execution_count": 0,
      "outputs": [
        {
          "output_type": "stream",
          "text": [
            "0.019444031971774762\n",
            "0.007140995099924414\n"
          ],
          "name": "stdout"
        }
      ]
    },
    {
      "cell_type": "markdown",
      "metadata": {
        "id": "iNIHBgueYCjh",
        "colab_type": "text"
      },
      "source": [
        "### Train model"
      ]
    },
    {
      "cell_type": "markdown",
      "metadata": {
        "id": "gDc3tMw7YFZI",
        "colab_type": "text"
      },
      "source": [
        "Now we train our model using the entire training data set."
      ]
    },
    {
      "cell_type": "code",
      "metadata": {
        "id": "d10zS7UUYM2K",
        "colab_type": "code",
        "colab": {}
      },
      "source": [
        "pred_model = mlp_regression(n_in = best_p['n_in'],\n",
        "                            n_out = best_p['n_out'],\n",
        "                            n_layers = best_p['n_layers'],\n",
        "                            n_nodes = best_p['n_nodes'],\n",
        "                            drop = best_p['drop'],\n",
        "                            act = best_p['act'],\n",
        "                            opt = best_p['opt'],\n",
        "                            loss_f = best_p['loss_f'])"
      ],
      "execution_count": 0,
      "outputs": []
    },
    {
      "cell_type": "code",
      "metadata": {
        "id": "2cLJeTqFI2qb",
        "colab_type": "code",
        "colab": {}
      },
      "source": [
        "pred_model.fit(atr, target, \n",
        "                epochs = best_p['epochs'], \n",
        "                batch_size = best_p['batch_size']) "
      ],
      "execution_count": 0,
      "outputs": []
    },
    {
      "cell_type": "markdown",
      "metadata": {
        "id": "M7iSdMioYkgZ",
        "colab_type": "text"
      },
      "source": [
        "### Predict values for test data set"
      ]
    },
    {
      "cell_type": "markdown",
      "metadata": {
        "id": "K4vk9uZgbk3c",
        "colab_type": "text"
      },
      "source": [
        "Finally, we use the trained model to predict values for the test dataset and create the submission file."
      ]
    },
    {
      "cell_type": "code",
      "metadata": {
        "id": "hcN0BnH_YumN",
        "colab_type": "code",
        "colab": {}
      },
      "source": [
        "#Predict values for test dataset\n",
        "pred = pred_model.predict(test_dataset.drop(columns = 'SalePrice'))"
      ],
      "execution_count": 0,
      "outputs": []
    },
    {
      "cell_type": "code",
      "metadata": {
        "id": "aLAiY1ZLZ-Vi",
        "colab_type": "code",
        "colab": {}
      },
      "source": [
        "#Write submission file\n",
        "submission = pd.Series(data = np.ndarray.tolist(pred), index = test_df.index.values)\n",
        "submission.to_csv('submission.csv')"
      ],
      "execution_count": 0,
      "outputs": []
    }
  ]
}